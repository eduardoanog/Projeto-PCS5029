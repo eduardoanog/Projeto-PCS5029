{
 "cells": [
  {
   "cell_type": "code",
   "execution_count": 1,
   "metadata": {},
   "outputs": [
    {
     "name": "stdout",
     "output_type": "stream",
     "text": [
      "Collecting transformers==3.0.2\n",
      "  Downloading transformers-3.0.2-py3-none-any.whl (769 kB)\n",
      "\u001b[K     |████████████████████████████████| 769 kB 3.6 MB/s eta 0:00:01\n",
      "\u001b[?25hCollecting sacremoses\n",
      "  Downloading sacremoses-0.0.43.tar.gz (883 kB)\n",
      "\u001b[K     |████████████████████████████████| 883 kB 19.8 MB/s eta 0:00:01\n",
      "\u001b[?25hRequirement already satisfied: regex!=2019.12.17 in /home/khaf/anaconda3/envs/BertENV/lib/python3.8/site-packages (from transformers==3.0.2) (2020.10.15)\n",
      "Requirement already satisfied: filelock in /home/khaf/anaconda3/envs/BertENV/lib/python3.8/site-packages (from transformers==3.0.2) (3.0.12)\n",
      "Requirement already satisfied: requests in /home/khaf/anaconda3/envs/BertENV/lib/python3.8/site-packages (from transformers==3.0.2) (2.24.0)\n",
      "Collecting tokenizers==0.8.1.rc1\n",
      "  Downloading tokenizers-0.8.1rc1-cp38-cp38-manylinux1_x86_64.whl (3.0 MB)\n",
      "\u001b[K     |████████████████████████████████| 3.0 MB 42.1 MB/s eta 0:00:01\n",
      "\u001b[?25hRequirement already satisfied: tqdm>=4.27 in /home/khaf/anaconda3/envs/BertENV/lib/python3.8/site-packages (from transformers==3.0.2) (4.50.2)\n",
      "Requirement already satisfied: numpy in /home/khaf/anaconda3/envs/BertENV/lib/python3.8/site-packages (from transformers==3.0.2) (1.19.2)\n",
      "Requirement already satisfied: sentencepiece!=0.1.92 in /home/khaf/anaconda3/envs/BertENV/lib/python3.8/site-packages (from transformers==3.0.2) (0.1.94)\n",
      "Requirement already satisfied: packaging in /home/khaf/anaconda3/envs/BertENV/lib/python3.8/site-packages (from transformers==3.0.2) (20.4)\n",
      "Requirement already satisfied: six in /home/khaf/anaconda3/envs/BertENV/lib/python3.8/site-packages (from sacremoses->transformers==3.0.2) (1.15.0)\n",
      "Requirement already satisfied: click in /home/khaf/anaconda3/envs/BertENV/lib/python3.8/site-packages (from sacremoses->transformers==3.0.2) (7.1.2)\n",
      "Requirement already satisfied: joblib in /home/khaf/anaconda3/envs/BertENV/lib/python3.8/site-packages (from sacremoses->transformers==3.0.2) (0.17.0)\n",
      "Requirement already satisfied: chardet<4,>=3.0.2 in /home/khaf/anaconda3/envs/BertENV/lib/python3.8/site-packages (from requests->transformers==3.0.2) (3.0.4)\n",
      "Requirement already satisfied: urllib3!=1.25.0,!=1.25.1,<1.26,>=1.21.1 in /home/khaf/anaconda3/envs/BertENV/lib/python3.8/site-packages (from requests->transformers==3.0.2) (1.25.11)\n",
      "Requirement already satisfied: idna<3,>=2.5 in /home/khaf/anaconda3/envs/BertENV/lib/python3.8/site-packages (from requests->transformers==3.0.2) (2.10)\n",
      "Requirement already satisfied: certifi>=2017.4.17 in /home/khaf/anaconda3/envs/BertENV/lib/python3.8/site-packages (from requests->transformers==3.0.2) (2020.6.20)\n",
      "Requirement already satisfied: pyparsing>=2.0.2 in /home/khaf/anaconda3/envs/BertENV/lib/python3.8/site-packages (from packaging->transformers==3.0.2) (2.4.7)\n",
      "Building wheels for collected packages: sacremoses\n",
      "  Building wheel for sacremoses (setup.py) ... \u001b[?25ldone\n",
      "\u001b[?25h  Created wheel for sacremoses: filename=sacremoses-0.0.43-py3-none-any.whl size=893259 sha256=78ffd764c161aa86d9581205af35ac517808c1fb2d762ed074eeb747de420efc\n",
      "  Stored in directory: /home/khaf/.cache/pip/wheels/7b/78/f4/27d43a65043e1b75dbddaa421b573eddc67e712be4b1c80677\n",
      "Successfully built sacremoses\n",
      "Installing collected packages: sacremoses, tokenizers, transformers\n",
      "Successfully installed sacremoses-0.0.43 tokenizers-0.8.1rc1 transformers-3.0.2\n",
      "Collecting nlp\n",
      "  Downloading nlp-0.4.0-py3-none-any.whl (1.7 MB)\n",
      "\u001b[K     |████████████████████████████████| 1.7 MB 3.0 MB/s eta 0:00:01\n",
      "\u001b[?25hRequirement already satisfied: pandas in /home/khaf/anaconda3/envs/BertENV/lib/python3.8/site-packages (from nlp) (1.1.3)\n",
      "Requirement already satisfied: tqdm>=4.27 in /home/khaf/anaconda3/envs/BertENV/lib/python3.8/site-packages (from nlp) (4.50.2)\n",
      "Collecting xxhash\n",
      "  Downloading xxhash-2.0.0-cp38-cp38-manylinux2010_x86_64.whl (243 kB)\n",
      "\u001b[K     |████████████████████████████████| 243 kB 45.3 MB/s eta 0:00:01\n",
      "\u001b[?25hRequirement already satisfied: numpy in /home/khaf/anaconda3/envs/BertENV/lib/python3.8/site-packages (from nlp) (1.19.2)\n",
      "Collecting pyarrow>=0.16.0\n",
      "  Using cached pyarrow-2.0.0-cp38-cp38-manylinux2014_x86_64.whl (17.8 MB)\n",
      "Requirement already satisfied: requests>=2.19.0 in /home/khaf/anaconda3/envs/BertENV/lib/python3.8/site-packages (from nlp) (2.24.0)\n",
      "Collecting dill\n",
      "  Downloading dill-0.3.3-py2.py3-none-any.whl (81 kB)\n",
      "\u001b[K     |████████████████████████████████| 81 kB 1.6 MB/s  eta 0:00:01\n",
      "\u001b[?25hRequirement already satisfied: filelock in /home/khaf/anaconda3/envs/BertENV/lib/python3.8/site-packages (from nlp) (3.0.12)\n",
      "Requirement already satisfied: pytz>=2017.2 in /home/khaf/anaconda3/envs/BertENV/lib/python3.8/site-packages (from pandas->nlp) (2020.1)\n",
      "Requirement already satisfied: python-dateutil>=2.7.3 in /home/khaf/anaconda3/envs/BertENV/lib/python3.8/site-packages (from pandas->nlp) (2.8.1)\n",
      "Requirement already satisfied: chardet<4,>=3.0.2 in /home/khaf/anaconda3/envs/BertENV/lib/python3.8/site-packages (from requests>=2.19.0->nlp) (3.0.4)\n",
      "Requirement already satisfied: certifi>=2017.4.17 in /home/khaf/anaconda3/envs/BertENV/lib/python3.8/site-packages (from requests>=2.19.0->nlp) (2020.6.20)\n",
      "Requirement already satisfied: urllib3!=1.25.0,!=1.25.1,<1.26,>=1.21.1 in /home/khaf/anaconda3/envs/BertENV/lib/python3.8/site-packages (from requests>=2.19.0->nlp) (1.25.11)\n",
      "Requirement already satisfied: idna<3,>=2.5 in /home/khaf/anaconda3/envs/BertENV/lib/python3.8/site-packages (from requests>=2.19.0->nlp) (2.10)\n",
      "Requirement already satisfied: six>=1.5 in /home/khaf/anaconda3/envs/BertENV/lib/python3.8/site-packages (from python-dateutil>=2.7.3->pandas->nlp) (1.15.0)\n",
      "Installing collected packages: xxhash, pyarrow, dill, nlp\n",
      "Successfully installed dill-0.3.3 nlp-0.4.0 pyarrow-2.0.0 xxhash-2.0.0\n"
     ]
    }
   ],
   "source": [
    "!pip install transformers==3.0.2\n",
    "!pip install nlp"
   ]
  },
  {
   "cell_type": "code",
   "execution_count": 4,
   "metadata": {
    "_cell_guid": "b1076dfc-b9ad-4769-8c92-a6c4dae69d19",
    "_uuid": "8f2839f25d086af736a60e9eeb907d3b93b6e0e5"
   },
   "outputs": [],
   "source": [
    "# This Python 3 environment comes with many helpful analytics libraries installed\n",
    "# It is defined by the kaggle/python Docker image: https://github.com/kaggle/docker-python\n",
    "# For example, here's several helpful packages to load\n",
    "\n",
    "import numpy as np # linear algebra\n",
    "import pandas as pd # data processing, CSV file I/O (e.g. pd.read_csv)\n",
    "from nlp import load_dataset\n",
    "# Input data files are available in the read-only \"../input/\" directory\n",
    "# For example, running this (by clicking run or pressing Shift+Enter) will list all files under the input directory\n",
    "\n",
    "import os\n",
    "# for dirname, _, filenames in os.walk('/kaggle/input'):\n",
    "#     for filename in filenames:\n",
    "#         print(os.path.join(dirname, filename))\n",
    "\n",
    "np.random.seed(1234) \n",
    "# You can write up to 5GB to the current directory (/kaggle/working/) that gets preserved as output when you create a version using \"Save & Run All\" \n",
    "# You can also write temporary files to /kaggle/temp/, but they won't be saved outside of the current session"
   ]
  },
  {
   "cell_type": "code",
   "execution_count": 3,
   "metadata": {},
   "outputs": [
    {
     "data": {
      "application/vnd.jupyter.widget-view+json": {
       "model_id": "8f77deed53d94918a39badd7049d912b",
       "version_major": 2,
       "version_minor": 0
      },
      "text/plain": [
       "HBox(children=(HTML(value='Downloading'), FloatProgress(value=0.0, max=28940.0), HTML(value='')))"
      ]
     },
     "metadata": {},
     "output_type": "display_data"
    },
    {
     "name": "stdout",
     "output_type": "stream",
     "text": [
      "\n"
     ]
    },
    {
     "data": {
      "application/vnd.jupyter.widget-view+json": {
       "model_id": "8c1552385cb94a0e9e7756afc790a50a",
       "version_major": 2,
       "version_minor": 0
      },
      "text/plain": [
       "HBox(children=(HTML(value='Downloading'), FloatProgress(value=0.0, max=30329.0), HTML(value='')))"
      ]
     },
     "metadata": {},
     "output_type": "display_data"
    },
    {
     "name": "stdout",
     "output_type": "stream",
     "text": [
      "\n",
      "Downloading and preparing dataset glue/mnli (download: 298.29 MiB, generated: 78.65 MiB, post-processed: Unknown sizetotal: 376.95 MiB) to /home/khaf/.cache/huggingface/datasets/glue/mnli/1.0.0/637080968c182118f006d3ea39dd9937940e81cfffc8d79836eaae8bba307fc4...\n"
     ]
    },
    {
     "data": {
      "application/vnd.jupyter.widget-view+json": {
       "model_id": "2ac1489a19c34174a0685e2492eaa5fc",
       "version_major": 2,
       "version_minor": 0
      },
      "text/plain": [
       "HBox(children=(HTML(value='Downloading'), FloatProgress(value=0.0, max=312783507.0), HTML(value='')))"
      ]
     },
     "metadata": {},
     "output_type": "display_data"
    },
    {
     "name": "stdout",
     "output_type": "stream",
     "text": [
      "\n"
     ]
    },
    {
     "data": {
      "application/vnd.jupyter.widget-view+json": {
       "model_id": "",
       "version_major": 2,
       "version_minor": 0
      },
      "text/plain": [
       "HBox(children=(HTML(value=''), FloatProgress(value=1.0, bar_style='info', layout=Layout(width='20px'), max=1.0…"
      ]
     },
     "metadata": {},
     "output_type": "display_data"
    },
    {
     "data": {
      "application/vnd.jupyter.widget-view+json": {
       "model_id": "",
       "version_major": 2,
       "version_minor": 0
      },
      "text/plain": [
       "HBox(children=(HTML(value=''), FloatProgress(value=1.0, bar_style='info', layout=Layout(width='20px'), max=1.0…"
      ]
     },
     "metadata": {},
     "output_type": "display_data"
    },
    {
     "data": {
      "application/vnd.jupyter.widget-view+json": {
       "model_id": "",
       "version_major": 2,
       "version_minor": 0
      },
      "text/plain": [
       "HBox(children=(HTML(value=''), FloatProgress(value=1.0, bar_style='info', layout=Layout(width='20px'), max=1.0…"
      ]
     },
     "metadata": {},
     "output_type": "display_data"
    },
    {
     "data": {
      "application/vnd.jupyter.widget-view+json": {
       "model_id": "",
       "version_major": 2,
       "version_minor": 0
      },
      "text/plain": [
       "HBox(children=(HTML(value=''), FloatProgress(value=1.0, bar_style='info', layout=Layout(width='20px'), max=1.0…"
      ]
     },
     "metadata": {},
     "output_type": "display_data"
    },
    {
     "data": {
      "application/vnd.jupyter.widget-view+json": {
       "model_id": "",
       "version_major": 2,
       "version_minor": 0
      },
      "text/plain": [
       "HBox(children=(HTML(value=''), FloatProgress(value=1.0, bar_style='info', layout=Layout(width='20px'), max=1.0…"
      ]
     },
     "metadata": {},
     "output_type": "display_data"
    },
    {
     "name": "stdout",
     "output_type": "stream",
     "text": [
      "Dataset glue downloaded and prepared to /home/khaf/.cache/huggingface/datasets/glue/mnli/1.0.0/637080968c182118f006d3ea39dd9937940e81cfffc8d79836eaae8bba307fc4. Subsequent calls will reuse this data.\n"
     ]
    }
   ],
   "source": [
    "mnli = load_dataset(path='glue', name='mnli') # loading more data from the Huggin face dataset\n",
    "#snli   =  load_dataset(\"snli\") # loading more data from the Huggin face dataset"
   ]
  },
  {
   "cell_type": "code",
   "execution_count": 5,
   "metadata": {
    "_cell_guid": "79c7e3d0-c299-4dcb-8224-4455121ee9b0",
    "_uuid": "d629ff2d2480ee46fbb7e2d37f6b5fab8052498a"
   },
   "outputs": [
    {
     "name": "stdout",
     "output_type": "stream",
     "text": [
      "Traning Data, the size of the dataset is: (12120, 6) \n",
      "\n"
     ]
    }
   ],
   "source": [
    "train_df = pd.read_csv(os.path.join('Dataset', 'train.csv'))\n",
    "print('Traning Data, the size of the dataset is: {} \\n'.format(train_df.shape))\n",
    "\n",
    "test_df = pd.read_csv(os.path.join('Dataset', 'test.csv'))"
   ]
  },
  {
   "cell_type": "code",
   "execution_count": 6,
   "metadata": {},
   "outputs": [
    {
     "name": "stdout",
     "output_type": "stream",
     "text": [
      "the shape of the whole DF to be used is: (12120, 6)\n"
     ]
    }
   ],
   "source": [
    "train_df = pd.concat([train_df]) #appending the original dataset to the additional datasets\n",
    "train_df = train_df[train_df['label'] != -1] #cleaning values with the wrong label\n",
    "\n",
    "\n",
    "print('the shape of the whole DF to be used is: ' + str(train_df.shape))"
   ]
  },
  {
   "cell_type": "code",
   "execution_count": 7,
   "metadata": {},
   "outputs": [
    {
     "name": "stdout",
     "output_type": "stream",
     "text": [
      "the shape of the whole DF to be used is: (12120, 6)\n"
     ]
    }
   ],
   "source": [
    "# searching for duplicates\n",
    "\n",
    "train_df = train_df[train_df.duplicated() == False]\n",
    "print('the shape of the whole DF to be used is: ' + str(train_df.shape))"
   ]
  },
  {
   "cell_type": "code",
   "execution_count": 8,
   "metadata": {},
   "outputs": [
    {
     "data": {
      "text/plain": [
       "<AxesSubplot:title={'center':'Test data laguage distribution'}, xlabel='lang_abv', ylabel='count'>"
      ]
     },
     "execution_count": 8,
     "metadata": {},
     "output_type": "execute_result"
    },
    {
     "data": {
      "image/png": "[encoded data removed]",
      "text/plain": [
       "<Figure size 1080x360 with 2 Axes>"
      ]
     },
     "metadata": {
      "needs_background": "light"
     },
     "output_type": "display_data"
    }
   ],
   "source": [
    "import seaborn as sns\n",
    "import matplotlib.pyplot as plt\n",
    "\n",
    "fig = plt.figure(figsize = (15,5))\n",
    "\n",
    "plt.subplot(1,2,1)\n",
    "plt.title('Traning data language distribution')\n",
    "sns.countplot(data = train_df, x = 'lang_abv', order = train_df['lang_abv'].value_counts().index)\n",
    "\n",
    "plt.subplot(1,2,2)\n",
    "plt.title('Test data laguage distribution')\n",
    "sns.countplot(data = test_df, x = 'lang_abv', order = test_df['lang_abv'].value_counts().index)"
   ]
  },
  {
   "cell_type": "markdown",
   "metadata": {},
   "source": [
    "The language column is clearly unbalanced being English the most frequent language"
   ]
  },
  {
   "cell_type": "code",
   "execution_count": 9,
   "metadata": {},
   "outputs": [
    {
     "name": "stderr",
     "output_type": "stream",
     "text": [
      "/home/khaf/anaconda3/envs/BertENV/lib/python3.8/site-packages/seaborn/distributions.py:2551: FutureWarning: `distplot` is a deprecated function and will be removed in a future version. Please adapt your code to use either `displot` (a figure-level function with similar flexibility) or `histplot` (an axes-level function for histograms).\n",
      "  warnings.warn(msg, FutureWarning)\n",
      "/home/khaf/anaconda3/envs/BertENV/lib/python3.8/site-packages/seaborn/distributions.py:2551: FutureWarning: `distplot` is a deprecated function and will be removed in a future version. Please adapt your code to use either `displot` (a figure-level function with similar flexibility) or `histplot` (an axes-level function for histograms).\n",
      "  warnings.warn(msg, FutureWarning)\n",
      "/home/khaf/anaconda3/envs/BertENV/lib/python3.8/site-packages/seaborn/distributions.py:2551: FutureWarning: `distplot` is a deprecated function and will be removed in a future version. Please adapt your code to use either `displot` (a figure-level function with similar flexibility) or `histplot` (an axes-level function for histograms).\n",
      "  warnings.warn(msg, FutureWarning)\n",
      "/home/khaf/anaconda3/envs/BertENV/lib/python3.8/site-packages/seaborn/distributions.py:2551: FutureWarning: `distplot` is a deprecated function and will be removed in a future version. Please adapt your code to use either `displot` (a figure-level function with similar flexibility) or `histplot` (an axes-level function for histograms).\n",
      "  warnings.warn(msg, FutureWarning)\n"
     ]
    },
    {
     "data": {
      "text/plain": [
       "<AxesSubplot:title={'center':'word count for test dataset hypothesis'}, ylabel='Density'>"
      ]
     },
     "execution_count": 9,
     "metadata": {},
     "output_type": "execute_result"
    },
    {
     "data": {
      "image/png": "[encoded data removed]",
      "text/plain": [
       "<Figure size 1080x720 with 4 Axes>"
      ]
     },
     "metadata": {
      "needs_background": "light"
     },
     "output_type": "display_data"
    }
   ],
   "source": [
    "# word count\n",
    "\n",
    "def word_count(dataset, column):\n",
    "    len_vector = []\n",
    "    for text in dataset[column]:\n",
    "        len_vector.append(len(text.split()))\n",
    "    \n",
    "    return len_vector\n",
    "\n",
    "train_premise = word_count(train_df, 'premise')\n",
    "train_hypothesis = word_count(train_df, 'hypothesis')\n",
    "\n",
    "test_premise = word_count(test_df, 'premise')\n",
    "test_hypothesis = word_count(test_df, 'hypothesis')\n",
    "\n",
    "fig = plt.figure(figsize = (15,10))\n",
    "\n",
    "plt.subplot(2,2,1)\n",
    "plt.title('word count for train dataset premise')\n",
    "sns.distplot(train_premise)\n",
    "\n",
    "plt.subplot(2,2,2)\n",
    "plt.title('word count for train dataset hypothesis')\n",
    "sns.distplot(train_hypothesis)\n",
    "\n",
    "plt.subplot(2,2,3)\n",
    "plt.title('word count for test dataset premise')\n",
    "sns.distplot(test_premise)\n",
    "\n",
    "plt.subplot(2,2,4)\n",
    "plt.title('word count for test dataset hypothesis')\n",
    "sns.distplot(test_hypothesis)        "
   ]
  },
  {
   "cell_type": "markdown",
   "metadata": {},
   "source": [
    "premises are observed to be longer than the hypothesis"
   ]
  },
  {
   "cell_type": "code",
   "execution_count": 10,
   "metadata": {},
   "outputs": [
    {
     "data": {
      "text/plain": [
       "<AxesSubplot:title={'center':'Label column countplot'}, xlabel='label', ylabel='count'>"
      ]
     },
     "execution_count": 10,
     "metadata": {},
     "output_type": "execute_result"
    },
    {
     "data": {
      "image/png": "[encoded data removed]",
      "text/plain": [
       "<Figure size 432x288 with 1 Axes>"
      ]
     },
     "metadata": {
      "needs_background": "light"
     },
     "output_type": "display_data"
    }
   ],
   "source": [
    "# looking at the countplot of the labels of the traning data set\n",
    "\n",
    "plt.title('Label column countplot')\n",
    "sns.countplot(data = train_df, x = 'label')"
   ]
  },
  {
   "cell_type": "markdown",
   "metadata": {},
   "source": [
    "The following code is used to tokenize and preprocess the data for the Hugginface model, creating an array of ids, maks and type_id"
   ]
  },
  {
   "cell_type": "code",
   "execution_count": 11,
   "metadata": {},
   "outputs": [
    {
     "data": {
      "application/vnd.jupyter.widget-view+json": {
       "model_id": "3646c5e0ae1b437caddc108143745693",
       "version_major": 2,
       "version_minor": 0
      },
      "text/plain": [
       "HBox(children=(HTML(value='Downloading'), FloatProgress(value=0.0, max=231508.0), HTML(value='')))"
      ]
     },
     "metadata": {},
     "output_type": "display_data"
    },
    {
     "name": "stdout",
     "output_type": "stream",
     "text": [
      "\n"
     ]
    }
   ],
   "source": [
    "from transformers import BertTokenizer, TFAutoModel, AutoTokenizer\n",
    "import tensorflow as tf\n",
    "import keras\n",
    "from tensorflow.math import softplus, tanh\n",
    "from tensorflow.keras.utils import get_custom_objects\n",
    "from tensorflow.keras import Input, Model, Sequential\n",
    "from tensorflow.keras.layers import Dense, Dropout, Activation, LSTM, Embedding, GlobalAveragePooling1D\n",
    "from keras.preprocessing.sequence import pad_sequences\n",
    "from keras.optimizers import Adam\n",
    "from keras.preprocessing.text import Tokenizer\n",
    "from keras.preprocessing.sequence import pad_sequences\n",
    "from tensorflow.keras import regularizers\n",
    "\n",
    "\n",
    "np.random.seed(123)\n",
    "max_len = 50\n",
    "\n",
    "# this is the model used BERT huggin face\n",
    "\n",
    "Bert_model = \"bert-large-uncased\"\n",
    "\n",
    "# tokenizer\n",
    "\n",
    "Bert_tokenizer = BertTokenizer.from_pretrained(Bert_model)\n",
    "\n",
    "def tokeniZer(dataset,tokenizer):\n",
    "    encoded_list = [] # word id array\n",
    "    type_id_list = np.zeros((dataset.shape[0], max_len)) #type id array\n",
    "    mask_list = np.zeros((dataset.shape[0], max_len)) #masks array\n",
    "    \n",
    "    for i in range(dataset.shape[0]):\n",
    "        datapoint = '[CLS] ' + dataset['premise'][i] + ' [SEP]' + dataset['hypothesis'][i] + ' [SEP]' # putting the two sentences together along with special characters\n",
    "        datapoint = tokenizer.tokenize(datapoint)\n",
    "        datapoint = tokenizer.convert_tokens_to_ids(datapoint)\n",
    "        encoded_list.append(datapoint) \n",
    "    \n",
    "    encoded_list = pad_sequences(encoded_list, maxlen = max_len, padding = 'post')\n",
    "    \n",
    "    for i in range(encoded_list.shape[0]):\n",
    "        flag = 0\n",
    "        a = encoded_list[i]\n",
    "        for j in range(len(a)):\n",
    "            \n",
    "            #building the type_id matrix\n",
    "            \n",
    "            if flag == 0:\n",
    "                type_id_list[i,j] = 0\n",
    "            else:\n",
    "                type_id_list[i,j] = 1\n",
    "                \n",
    "            #flag for the type_id matrix\n",
    "            \n",
    "            if encoded_list[i,j] == 102:\n",
    "                flag = 1\n",
    "            \n",
    "    \n",
    "            #building the mask matrix \n",
    "            \n",
    "            if encoded_list[i,j] == 0:\n",
    "                mask_list[i,j] = 0\n",
    "            else:\n",
    "                mask_list[i,j] = 1\n",
    "                \n",
    "    return encoded_list,mask_list,type_id_list\n",
    "        \n",
    "        \n",
    "        "
   ]
  },
  {
   "cell_type": "code",
   "execution_count": 12,
   "metadata": {},
   "outputs": [],
   "source": [
    "# softplus - log(exp(x)+1), function that can be used for extra layers in the models\n",
    "def mish(x):\n",
    "    return x*tanh(softplus(x))\n",
    "get_custom_objects()[\"mish\"] = Activation(mish)"
   ]
  },
  {
   "cell_type": "markdown",
   "metadata": {},
   "source": [
    "This is the function to create a single BERT model that takes as single input  random seed which is used in this case to create an esemble model using several BERT models with different seeds and shuffling the data"
   ]
  },
  {
   "cell_type": "code",
   "execution_count": 14,
   "metadata": {},
   "outputs": [],
   "source": [
    "# model creator\n",
    "\n",
    "def create_BERT(random_seed):\n",
    "    \n",
    "    tf.random.set_seed(random_seed)\n",
    "    \n",
    "\n",
    "    transformer_encoder = TFAutoModel.from_pretrained(Bert_model)\n",
    "\n",
    "    input_ids = Input(shape=(max_len,), dtype=tf.int32, name=\"input_layer\")\n",
    "    input_masks = Input(shape = (max_len,), dtype = tf.int32, name = 'input_mask')\n",
    "    input_type_id = Input(shape = (max_len,), dtype = tf.int32, name = 'input_type_id')\n",
    "\n",
    "    sequence_output = transformer_encoder([input_ids, input_masks, input_type_id])[0]\n",
    "\n",
    "    cls_token = sequence_output[:, 0, :]\n",
    "\n",
    "    output_layer = Dense(3, activation='softmax')(cls_token)\n",
    "\n",
    "\n",
    "    model = Model(inputs=[input_ids, input_masks, input_type_id], outputs = output_layer)\n",
    "\n",
    "    model.summary()\n",
    "\n",
    "    model.compile(Adam(lr=1e-5), \n",
    "            loss='sparse_categorical_crossentropy', \n",
    "            metrics=['accuracy'])\n",
    "    return model"
   ]
  },
  {
   "cell_type": "code",
   "execution_count": 15,
   "metadata": {},
   "outputs": [],
   "source": [
    "#ensemble creation and prediction\n",
    "\n",
    "from sklearn.utils import shuffle # shuffle dataframes\n",
    "\n",
    "callbacks = [tf.keras.callbacks.EarlyStopping(patience = 2, monitor = 'val_loss', \\\n",
    "                                           restore_best_weights = True, mode = 'min')]\n",
    "\n",
    "shuffled_data = shuffle(train_df).reset_index(drop = True)#shuffle the data to add more variance\n",
    "\n",
    "train_df = None #clearing more memory\n",
    "\n",
    "batch_size = 128"
   ]
  },
  {
   "cell_type": "markdown",
   "metadata": {},
   "source": [
    "The following code will preprocess and create a XLM-RoBERTa Model "
   ]
  },
  {
   "cell_type": "code",
   "execution_count": 16,
   "metadata": {},
   "outputs": [
    {
     "data": {
      "application/vnd.jupyter.widget-view+json": {
       "model_id": "e4e03ffbf7fb41ac83b55975564e9ddf",
       "version_major": 2,
       "version_minor": 0
      },
      "text/plain": [
       "HBox(children=(HTML(value='Downloading'), FloatProgress(value=0.0, max=513.0), HTML(value='')))"
      ]
     },
     "metadata": {},
     "output_type": "display_data"
    },
    {
     "name": "stdout",
     "output_type": "stream",
     "text": [
      "\n"
     ]
    },
    {
     "data": {
      "application/vnd.jupyter.widget-view+json": {
       "model_id": "06150e908e7443f088d5d7904923fb35",
       "version_major": 2,
       "version_minor": 0
      },
      "text/plain": [
       "HBox(children=(HTML(value='Downloading'), FloatProgress(value=0.0, max=5069051.0), HTML(value='')))"
      ]
     },
     "metadata": {},
     "output_type": "display_data"
    },
    {
     "name": "stdout",
     "output_type": "stream",
     "text": [
      "\n"
     ]
    }
   ],
   "source": [
    "XLM_model = \"jplu/tf-xlm-roberta-large\"\n",
    "xlm_tokenizer = AutoTokenizer.from_pretrained(XLM_model) #Xlm tokenizer\n",
    "\n",
    "\n",
    "X_train_ids, X_train_masks, _ = tokeniZer(shuffled_data,xlm_tokenizer) #encoding input"
   ]
  },
  {
   "cell_type": "code",
   "execution_count": 18,
   "metadata": {},
   "outputs": [
    {
     "ename": "IndentationError",
     "evalue": "unexpected indent (<ipython-input-18-250ca4c37631>, line 33)",
     "output_type": "error",
     "traceback": [
      "\u001b[0;36m  File \u001b[0;32m\"<ipython-input-18-250ca4c37631>\"\u001b[0;36m, line \u001b[0;32m33\u001b[0m\n\u001b[0;31m    return model\u001b[0m\n\u001b[0m    ^\u001b[0m\n\u001b[0;31mIndentationError\u001b[0m\u001b[0;31m:\u001b[0m unexpected indent\n"
     ]
    }
   ],
   "source": [
    "# creating the XLM model \n",
    "\n",
    "def create_xlm(transformer_layer,  random_seed, learning_rate = 1e-5):\n",
    "    \n",
    "    tf.keras.backend.clear_session()\n",
    "\n",
    "    tf.random.set_seed(random_seed)\n",
    "    \n",
    "    \n",
    "    input_ids = Input(shape = (max_len,), dtype = tf.int32)\n",
    "    input_masks = Input(shape = (max_len,), dtype = tf.int32)\n",
    "\n",
    "        #insert roberta layer\n",
    "    roberta = TFAutoModel.from_pretrained(transformer_layer)\n",
    "    roberta = roberta([input_ids, input_masks])[0]\n",
    "\n",
    "    out = GlobalAveragePooling1D()(roberta)\n",
    "\n",
    "\n",
    "            #add our softmax layer\n",
    "    out = Dense(3, activation = 'softmax')(out)\n",
    "\n",
    "    #assemble model and compile\n",
    "\n",
    "\n",
    "    model = Model(inputs = [input_ids, input_masks], outputs = out)\n",
    "    model.compile(\n",
    "                            optimizer = Adam(lr = learning_rate), \n",
    "                            loss = 'sparse_categorical_crossentropy', \n",
    "                            metrics = ['accuracy'])\n",
    "    model.summary()\n",
    "        \n",
    "    return model  \n",
    "\n",
    "Xlm = create_xlm(XLM_model ,123443334, 1e-5)"
   ]
  },
  {
   "cell_type": "code",
   "execution_count": null,
   "metadata": {},
   "outputs": [],
   "source": [
    "#STEPS_PER_EPOCH = int(train_df.shape[0] // batch_size)\n",
    "\n",
    "history_xlm = Xlm.fit([X_train_ids, X_train_masks], shuffled_data['label'],\n",
    "          batch_size = batch_size,\n",
    "        validation_split = 0.2,\n",
    "         epochs = 39, callbacks = callbacks)"
   ]
  },
  {
   "cell_type": "code",
   "execution_count": null,
   "metadata": {},
   "outputs": [],
   "source": [
    "# preprocessing test data\n",
    "\n",
    "input_ids_test_xml, input_masks_test_xml, _ = tokeniZer(test_df, xlm_tokenizer)\n",
    "\n",
    "#model predictions\n",
    "\n",
    "predictions_xlm = Xlm.predict([input_ids_test_xml, input_masks_test_xml])\n",
    "\n",
    "predictions = predictions_xlm\n",
    "\n",
    "final = np.argmax(predictions, axis = 1)    \n",
    "\n",
    "submission = pd.DataFrame()    \n",
    "\n",
    "submission['id'] = test_df['id']\n",
    "submission['prediction'] = final.astype(np.int32)\n",
    "\n",
    "submission.to_csv('submission.csv', index = False)"
   ]
  },
  {
   "cell_type": "code",
   "execution_count": null,
   "metadata": {},
   "outputs": [],
   "source": []
  }
 ],
 "metadata": {
  "kernelspec": {
   "display_name": "Python 3",
   "language": "python",
   "name": "python3"
  },
  "language_info": {
   "codemirror_mode": {
    "name": "ipython",
    "version": 3
   },
   "file_extension": ".py",
   "mimetype": "text/x-python",
   "name": "python",
   "nbconvert_exporter": "python",
   "pygments_lexer": "ipython3",
   "version": "3.8.5"
  }
 },
 "nbformat": 4,
 "nbformat_minor": 4
}
