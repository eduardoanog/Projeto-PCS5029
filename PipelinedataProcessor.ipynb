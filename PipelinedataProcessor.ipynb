{
 "cells": [
  {
   "cell_type": "markdown",
   "metadata": {},
   "source": [
    "# Compilado dos resultados"
   ]
  },
  {
   "cell_type": "code",
   "execution_count": 1,
   "metadata": {},
   "outputs": [],
   "source": [
    "import pandas as pd\n",
    "import os\n",
    "import matplotlib.pyplot as plt"
   ]
  },
  {
   "cell_type": "code",
   "execution_count": 2,
   "metadata": {},
   "outputs": [],
   "source": [
    "ValuesTested = [16, 32, 64, 128, 256, 512, 1024, 2048, 4096, 8192, 16384, 32768]\n",
    "Classifiers = ['DT', 'KNN', 'MLP', 'SVC']\n",
    "Metrics = ['Accuracy', 'Precision', 'Recall', 'F1']"
   ]
  },
  {
   "cell_type": "code",
   "execution_count": 3,
   "metadata": {},
   "outputs": [],
   "source": [
    "DT_ACC, KNN_ACC, MLP_ACC, SVC_ACC = [], [], [], []\n",
    "DT_PR, KNN_PR, MLP_PR, SVC_PR = [], [], [], []\n",
    "DT_RE, KNN_RE, MLP_RE, SVC_RE = [], [], [], []\n",
    "DT_F1, KNN_F1, MLP_F1, SVC_F1 = [], [], [], []\n",
    "\n",
    "for i in range(len(ValuesTested)):\n",
    "    df = pd.read_csv(os.path.join('Resultados', 'CountVectorizer_' + str(ValuesTested[i]), 'FullMetrics.csv'), index_col = 'Classifier')\n",
    "    \n",
    "    DT_ACC.append(df['Accuracy']['DT'])\n",
    "    KNN_ACC.append(df['Accuracy']['KNN'])\n",
    "    MLP_ACC.append(df['Accuracy']['MLP'])\n",
    "    SVC_ACC.append(df['Accuracy']['SVC'])\n",
    "    \n",
    "    DT_PR.append(df['Precision']['DT'])\n",
    "    KNN_PR.append(df['Precision']['KNN'])\n",
    "    MLP_PR.append(df['Precision']['MLP'])\n",
    "    SVC_PR.append(df['Precision']['SVC'])\n",
    "    \n",
    "    DT_RE.append(df['Recall']['DT'])\n",
    "    KNN_RE.append(df['Recall']['KNN'])\n",
    "    MLP_RE.append(df['Recall']['MLP'])\n",
    "    SVC_RE.append(df['Recall']['SVC'])\n",
    "    \n",
    "    DT_F1.append(df['F1']['DT'])\n",
    "    KNN_F1.append(df['F1']['KNN'])\n",
    "    MLP_F1.append(df['F1']['MLP'])\n",
    "    SVC_F1.append(df['F1']['SVC'])\n",
    "    "
   ]
  },
  {
   "cell_type": "code",
   "execution_count": 4,
   "metadata": {},
   "outputs": [],
   "source": [
    "AccuracyDataFrame = pd.DataFrame()\n",
    "PrecisionDataFrame = pd.DataFrame()\n",
    "RecallDataFrame = pd.DataFrame()\n",
    "F1DataFrame = pd.DataFrame()"
   ]
  },
  {
   "cell_type": "code",
   "execution_count": 5,
   "metadata": {},
   "outputs": [
    {
     "data": {
      "text/html": [
       "<div>\n",
       "<style scoped>\n",
       "    .dataframe tbody tr th:only-of-type {\n",
       "        vertical-align: middle;\n",
       "    }\n",
       "\n",
       "    .dataframe tbody tr th {\n",
       "        vertical-align: top;\n",
       "    }\n",
       "\n",
       "    .dataframe thead th {\n",
       "        text-align: right;\n",
       "    }\n",
       "</style>\n",
       "<table border=\"1\" class=\"dataframe\">\n",
       "  <thead>\n",
       "    <tr style=\"text-align: right;\">\n",
       "      <th></th>\n",
       "      <th>DT</th>\n",
       "      <th>KNN</th>\n",
       "      <th>MLP</th>\n",
       "      <th>SVC</th>\n",
       "    </tr>\n",
       "  </thead>\n",
       "  <tbody>\n",
       "    <tr>\n",
       "      <th>0</th>\n",
       "      <td>0.692445</td>\n",
       "      <td>0.675388</td>\n",
       "      <td>0.719876</td>\n",
       "      <td>0.722065</td>\n",
       "    </tr>\n",
       "    <tr>\n",
       "      <th>1</th>\n",
       "      <td>0.666801</td>\n",
       "      <td>0.681784</td>\n",
       "      <td>0.732899</td>\n",
       "      <td>0.737797</td>\n",
       "    </tr>\n",
       "    <tr>\n",
       "      <th>2</th>\n",
       "      <td>0.663689</td>\n",
       "      <td>0.691696</td>\n",
       "      <td>0.729787</td>\n",
       "      <td>0.744252</td>\n",
       "    </tr>\n",
       "    <tr>\n",
       "      <th>3</th>\n",
       "      <td>0.689160</td>\n",
       "      <td>0.703452</td>\n",
       "      <td>0.731113</td>\n",
       "      <td>0.770530</td>\n",
       "    </tr>\n",
       "    <tr>\n",
       "      <th>4</th>\n",
       "      <td>0.720509</td>\n",
       "      <td>0.712326</td>\n",
       "      <td>0.736703</td>\n",
       "      <td>0.786089</td>\n",
       "    </tr>\n",
       "    <tr>\n",
       "      <th>5</th>\n",
       "      <td>0.744252</td>\n",
       "      <td>0.712211</td>\n",
       "      <td>0.766726</td>\n",
       "      <td>0.801014</td>\n",
       "    </tr>\n",
       "    <tr>\n",
       "      <th>6</th>\n",
       "      <td>0.768397</td>\n",
       "      <td>0.712615</td>\n",
       "      <td>0.787760</td>\n",
       "      <td>0.810004</td>\n",
       "    </tr>\n",
       "    <tr>\n",
       "      <th>7</th>\n",
       "      <td>0.778885</td>\n",
       "      <td>0.699476</td>\n",
       "      <td>0.810235</td>\n",
       "      <td>0.818994</td>\n",
       "    </tr>\n",
       "    <tr>\n",
       "      <th>8</th>\n",
       "      <td>0.781882</td>\n",
       "      <td>0.678845</td>\n",
       "      <td>0.819167</td>\n",
       "      <td>0.822855</td>\n",
       "    </tr>\n",
       "    <tr>\n",
       "      <th>9</th>\n",
       "      <td>0.787875</td>\n",
       "      <td>0.673486</td>\n",
       "      <td>0.823201</td>\n",
       "      <td>0.821645</td>\n",
       "    </tr>\n",
       "    <tr>\n",
       "      <th>10</th>\n",
       "      <td>0.789028</td>\n",
       "      <td>0.678730</td>\n",
       "      <td>0.820492</td>\n",
       "      <td>0.820435</td>\n",
       "    </tr>\n",
       "    <tr>\n",
       "      <th>11</th>\n",
       "      <td>0.790007</td>\n",
       "      <td>0.683052</td>\n",
       "      <td>0.819801</td>\n",
       "      <td>0.819973</td>\n",
       "    </tr>\n",
       "  </tbody>\n",
       "</table>\n",
       "</div>"
      ],
      "text/plain": [
       "          DT       KNN       MLP       SVC\n",
       "0   0.692445  0.675388  0.719876  0.722065\n",
       "1   0.666801  0.681784  0.732899  0.737797\n",
       "2   0.663689  0.691696  0.729787  0.744252\n",
       "3   0.689160  0.703452  0.731113  0.770530\n",
       "4   0.720509  0.712326  0.736703  0.786089\n",
       "5   0.744252  0.712211  0.766726  0.801014\n",
       "6   0.768397  0.712615  0.787760  0.810004\n",
       "7   0.778885  0.699476  0.810235  0.818994\n",
       "8   0.781882  0.678845  0.819167  0.822855\n",
       "9   0.787875  0.673486  0.823201  0.821645\n",
       "10  0.789028  0.678730  0.820492  0.820435\n",
       "11  0.790007  0.683052  0.819801  0.819973"
      ]
     },
     "execution_count": 5,
     "metadata": {},
     "output_type": "execute_result"
    }
   ],
   "source": [
    "AccuracyDataFrame['DT'] = DT_ACC\n",
    "AccuracyDataFrame['KNN'] = KNN_ACC\n",
    "AccuracyDataFrame['MLP'] = MLP_ACC\n",
    "AccuracyDataFrame['SVC'] = SVC_ACC\n",
    "AccuracyDataFrame"
   ]
  },
  {
   "cell_type": "code",
   "execution_count": 6,
   "metadata": {},
   "outputs": [
    {
     "data": {
      "text/html": [
       "<div>\n",
       "<style scoped>\n",
       "    .dataframe tbody tr th:only-of-type {\n",
       "        vertical-align: middle;\n",
       "    }\n",
       "\n",
       "    .dataframe tbody tr th {\n",
       "        vertical-align: top;\n",
       "    }\n",
       "\n",
       "    .dataframe thead th {\n",
       "        text-align: right;\n",
       "    }\n",
       "</style>\n",
       "<table border=\"1\" class=\"dataframe\">\n",
       "  <thead>\n",
       "    <tr style=\"text-align: right;\">\n",
       "      <th></th>\n",
       "      <th>DT</th>\n",
       "      <th>KNN</th>\n",
       "      <th>MLP</th>\n",
       "      <th>SVC</th>\n",
       "    </tr>\n",
       "  </thead>\n",
       "  <tbody>\n",
       "    <tr>\n",
       "      <th>0</th>\n",
       "      <td>0.341652</td>\n",
       "      <td>0.328144</td>\n",
       "      <td>0.380900</td>\n",
       "      <td>0.311770</td>\n",
       "    </tr>\n",
       "    <tr>\n",
       "      <th>1</th>\n",
       "      <td>0.340704</td>\n",
       "      <td>0.331663</td>\n",
       "      <td>0.449213</td>\n",
       "      <td>0.370488</td>\n",
       "    </tr>\n",
       "    <tr>\n",
       "      <th>2</th>\n",
       "      <td>0.339978</td>\n",
       "      <td>0.328909</td>\n",
       "      <td>0.398726</td>\n",
       "      <td>0.537137</td>\n",
       "    </tr>\n",
       "    <tr>\n",
       "      <th>3</th>\n",
       "      <td>0.391849</td>\n",
       "      <td>0.385350</td>\n",
       "      <td>0.439754</td>\n",
       "      <td>0.582507</td>\n",
       "    </tr>\n",
       "    <tr>\n",
       "      <th>4</th>\n",
       "      <td>0.453702</td>\n",
       "      <td>0.432780</td>\n",
       "      <td>0.463389</td>\n",
       "      <td>0.568814</td>\n",
       "    </tr>\n",
       "    <tr>\n",
       "      <th>5</th>\n",
       "      <td>0.494327</td>\n",
       "      <td>0.504950</td>\n",
       "      <td>0.540656</td>\n",
       "      <td>0.716208</td>\n",
       "    </tr>\n",
       "    <tr>\n",
       "      <th>6</th>\n",
       "      <td>0.560038</td>\n",
       "      <td>0.523131</td>\n",
       "      <td>0.585222</td>\n",
       "      <td>0.740611</td>\n",
       "    </tr>\n",
       "    <tr>\n",
       "      <th>7</th>\n",
       "      <td>0.617295</td>\n",
       "      <td>0.573008</td>\n",
       "      <td>0.687121</td>\n",
       "      <td>0.772500</td>\n",
       "    </tr>\n",
       "    <tr>\n",
       "      <th>8</th>\n",
       "      <td>0.656262</td>\n",
       "      <td>0.607756</td>\n",
       "      <td>0.694033</td>\n",
       "      <td>0.794898</td>\n",
       "    </tr>\n",
       "    <tr>\n",
       "      <th>9</th>\n",
       "      <td>0.667725</td>\n",
       "      <td>0.641844</td>\n",
       "      <td>0.704283</td>\n",
       "      <td>0.794102</td>\n",
       "    </tr>\n",
       "    <tr>\n",
       "      <th>10</th>\n",
       "      <td>0.671699</td>\n",
       "      <td>0.614830</td>\n",
       "      <td>0.705502</td>\n",
       "      <td>0.791618</td>\n",
       "    </tr>\n",
       "    <tr>\n",
       "      <th>11</th>\n",
       "      <td>0.687585</td>\n",
       "      <td>0.623271</td>\n",
       "      <td>0.705969</td>\n",
       "      <td>0.791470</td>\n",
       "    </tr>\n",
       "  </tbody>\n",
       "</table>\n",
       "</div>"
      ],
      "text/plain": [
       "          DT       KNN       MLP       SVC\n",
       "0   0.341652  0.328144  0.380900  0.311770\n",
       "1   0.340704  0.331663  0.449213  0.370488\n",
       "2   0.339978  0.328909  0.398726  0.537137\n",
       "3   0.391849  0.385350  0.439754  0.582507\n",
       "4   0.453702  0.432780  0.463389  0.568814\n",
       "5   0.494327  0.504950  0.540656  0.716208\n",
       "6   0.560038  0.523131  0.585222  0.740611\n",
       "7   0.617295  0.573008  0.687121  0.772500\n",
       "8   0.656262  0.607756  0.694033  0.794898\n",
       "9   0.667725  0.641844  0.704283  0.794102\n",
       "10  0.671699  0.614830  0.705502  0.791618\n",
       "11  0.687585  0.623271  0.705969  0.791470"
      ]
     },
     "execution_count": 6,
     "metadata": {},
     "output_type": "execute_result"
    }
   ],
   "source": [
    "PrecisionDataFrame['DT'] = DT_PR\n",
    "PrecisionDataFrame['KNN'] = KNN_PR\n",
    "PrecisionDataFrame['MLP'] = MLP_PR\n",
    "PrecisionDataFrame['SVC'] = SVC_PR\n",
    "PrecisionDataFrame"
   ]
  },
  {
   "cell_type": "code",
   "execution_count": 7,
   "metadata": {},
   "outputs": [
    {
     "data": {
      "text/html": [
       "<div>\n",
       "<style scoped>\n",
       "    .dataframe tbody tr th:only-of-type {\n",
       "        vertical-align: middle;\n",
       "    }\n",
       "\n",
       "    .dataframe tbody tr th {\n",
       "        vertical-align: top;\n",
       "    }\n",
       "\n",
       "    .dataframe thead th {\n",
       "        text-align: right;\n",
       "    }\n",
       "</style>\n",
       "<table border=\"1\" class=\"dataframe\">\n",
       "  <thead>\n",
       "    <tr style=\"text-align: right;\">\n",
       "      <th></th>\n",
       "      <th>DT</th>\n",
       "      <th>KNN</th>\n",
       "      <th>MLP</th>\n",
       "      <th>SVC</th>\n",
       "    </tr>\n",
       "  </thead>\n",
       "  <tbody>\n",
       "    <tr>\n",
       "      <th>0</th>\n",
       "      <td>0.272953</td>\n",
       "      <td>0.264301</td>\n",
       "      <td>0.271012</td>\n",
       "      <td>0.258348</td>\n",
       "    </tr>\n",
       "    <tr>\n",
       "      <th>1</th>\n",
       "      <td>0.302638</td>\n",
       "      <td>0.289805</td>\n",
       "      <td>0.314520</td>\n",
       "      <td>0.301557</td>\n",
       "    </tr>\n",
       "    <tr>\n",
       "      <th>2</th>\n",
       "      <td>0.329743</td>\n",
       "      <td>0.290137</td>\n",
       "      <td>0.332601</td>\n",
       "      <td>0.305617</td>\n",
       "    </tr>\n",
       "    <tr>\n",
       "      <th>3</th>\n",
       "      <td>0.388320</td>\n",
       "      <td>0.322887</td>\n",
       "      <td>0.403084</td>\n",
       "      <td>0.361918</td>\n",
       "    </tr>\n",
       "    <tr>\n",
       "      <th>4</th>\n",
       "      <td>0.452578</td>\n",
       "      <td>0.347683</td>\n",
       "      <td>0.454541</td>\n",
       "      <td>0.413967</td>\n",
       "    </tr>\n",
       "    <tr>\n",
       "      <th>5</th>\n",
       "      <td>0.492518</td>\n",
       "      <td>0.356724</td>\n",
       "      <td>0.516233</td>\n",
       "      <td>0.452088</td>\n",
       "    </tr>\n",
       "    <tr>\n",
       "      <th>6</th>\n",
       "      <td>0.544674</td>\n",
       "      <td>0.370575</td>\n",
       "      <td>0.562492</td>\n",
       "      <td>0.492432</td>\n",
       "    </tr>\n",
       "    <tr>\n",
       "      <th>7</th>\n",
       "      <td>0.600706</td>\n",
       "      <td>0.385963</td>\n",
       "      <td>0.647001</td>\n",
       "      <td>0.560752</td>\n",
       "    </tr>\n",
       "    <tr>\n",
       "      <th>8</th>\n",
       "      <td>0.625381</td>\n",
       "      <td>0.373746</td>\n",
       "      <td>0.676003</td>\n",
       "      <td>0.581868</td>\n",
       "    </tr>\n",
       "    <tr>\n",
       "      <th>9</th>\n",
       "      <td>0.645089</td>\n",
       "      <td>0.364490</td>\n",
       "      <td>0.678162</td>\n",
       "      <td>0.577348</td>\n",
       "    </tr>\n",
       "    <tr>\n",
       "      <th>10</th>\n",
       "      <td>0.639859</td>\n",
       "      <td>0.363158</td>\n",
       "      <td>0.681426</td>\n",
       "      <td>0.573673</td>\n",
       "    </tr>\n",
       "    <tr>\n",
       "      <th>11</th>\n",
       "      <td>0.642716</td>\n",
       "      <td>0.361151</td>\n",
       "      <td>0.691397</td>\n",
       "      <td>0.571505</td>\n",
       "    </tr>\n",
       "  </tbody>\n",
       "</table>\n",
       "</div>"
      ],
      "text/plain": [
       "          DT       KNN       MLP       SVC\n",
       "0   0.272953  0.264301  0.271012  0.258348\n",
       "1   0.302638  0.289805  0.314520  0.301557\n",
       "2   0.329743  0.290137  0.332601  0.305617\n",
       "3   0.388320  0.322887  0.403084  0.361918\n",
       "4   0.452578  0.347683  0.454541  0.413967\n",
       "5   0.492518  0.356724  0.516233  0.452088\n",
       "6   0.544674  0.370575  0.562492  0.492432\n",
       "7   0.600706  0.385963  0.647001  0.560752\n",
       "8   0.625381  0.373746  0.676003  0.581868\n",
       "9   0.645089  0.364490  0.678162  0.577348\n",
       "10  0.639859  0.363158  0.681426  0.573673\n",
       "11  0.642716  0.361151  0.691397  0.571505"
      ]
     },
     "execution_count": 7,
     "metadata": {},
     "output_type": "execute_result"
    }
   ],
   "source": [
    "RecallDataFrame['DT'] = DT_RE\n",
    "RecallDataFrame['KNN'] = KNN_RE\n",
    "RecallDataFrame['MLP'] = MLP_RE\n",
    "RecallDataFrame['SVC'] = SVC_RE\n",
    "RecallDataFrame"
   ]
  },
  {
   "cell_type": "code",
   "execution_count": 8,
   "metadata": {},
   "outputs": [
    {
     "data": {
      "text/html": [
       "<div>\n",
       "<style scoped>\n",
       "    .dataframe tbody tr th:only-of-type {\n",
       "        vertical-align: middle;\n",
       "    }\n",
       "\n",
       "    .dataframe tbody tr th {\n",
       "        vertical-align: top;\n",
       "    }\n",
       "\n",
       "    .dataframe thead th {\n",
       "        text-align: right;\n",
       "    }\n",
       "</style>\n",
       "<table border=\"1\" class=\"dataframe\">\n",
       "  <thead>\n",
       "    <tr style=\"text-align: right;\">\n",
       "      <th></th>\n",
       "      <th>DT</th>\n",
       "      <th>KNN</th>\n",
       "      <th>MLP</th>\n",
       "      <th>SVC</th>\n",
       "    </tr>\n",
       "  </thead>\n",
       "  <tbody>\n",
       "    <tr>\n",
       "      <th>0</th>\n",
       "      <td>0.280703</td>\n",
       "      <td>0.267314</td>\n",
       "      <td>0.275548</td>\n",
       "      <td>0.250261</td>\n",
       "    </tr>\n",
       "    <tr>\n",
       "      <th>1</th>\n",
       "      <td>0.315246</td>\n",
       "      <td>0.299482</td>\n",
       "      <td>0.334224</td>\n",
       "      <td>0.315202</td>\n",
       "    </tr>\n",
       "    <tr>\n",
       "      <th>2</th>\n",
       "      <td>0.333691</td>\n",
       "      <td>0.299473</td>\n",
       "      <td>0.349441</td>\n",
       "      <td>0.319144</td>\n",
       "    </tr>\n",
       "    <tr>\n",
       "      <th>3</th>\n",
       "      <td>0.389859</td>\n",
       "      <td>0.341115</td>\n",
       "      <td>0.417873</td>\n",
       "      <td>0.379661</td>\n",
       "    </tr>\n",
       "    <tr>\n",
       "      <th>4</th>\n",
       "      <td>0.452983</td>\n",
       "      <td>0.368612</td>\n",
       "      <td>0.458747</td>\n",
       "      <td>0.448181</td>\n",
       "    </tr>\n",
       "    <tr>\n",
       "      <th>5</th>\n",
       "      <td>0.493298</td>\n",
       "      <td>0.386103</td>\n",
       "      <td>0.527302</td>\n",
       "      <td>0.491408</td>\n",
       "    </tr>\n",
       "    <tr>\n",
       "      <th>6</th>\n",
       "      <td>0.551765</td>\n",
       "      <td>0.406488</td>\n",
       "      <td>0.572879</td>\n",
       "      <td>0.545919</td>\n",
       "    </tr>\n",
       "    <tr>\n",
       "      <th>7</th>\n",
       "      <td>0.608015</td>\n",
       "      <td>0.430745</td>\n",
       "      <td>0.664429</td>\n",
       "      <td>0.622501</td>\n",
       "    </tr>\n",
       "    <tr>\n",
       "      <th>8</th>\n",
       "      <td>0.639538</td>\n",
       "      <td>0.422042</td>\n",
       "      <td>0.683881</td>\n",
       "      <td>0.649408</td>\n",
       "    </tr>\n",
       "    <tr>\n",
       "      <th>9</th>\n",
       "      <td>0.655390</td>\n",
       "      <td>0.415290</td>\n",
       "      <td>0.690180</td>\n",
       "      <td>0.644503</td>\n",
       "    </tr>\n",
       "    <tr>\n",
       "      <th>10</th>\n",
       "      <td>0.654362</td>\n",
       "      <td>0.412345</td>\n",
       "      <td>0.692448</td>\n",
       "      <td>0.640942</td>\n",
       "    </tr>\n",
       "    <tr>\n",
       "      <th>11</th>\n",
       "      <td>0.661888</td>\n",
       "      <td>0.409142</td>\n",
       "      <td>0.698347</td>\n",
       "      <td>0.639196</td>\n",
       "    </tr>\n",
       "  </tbody>\n",
       "</table>\n",
       "</div>"
      ],
      "text/plain": [
       "          DT       KNN       MLP       SVC\n",
       "0   0.280703  0.267314  0.275548  0.250261\n",
       "1   0.315246  0.299482  0.334224  0.315202\n",
       "2   0.333691  0.299473  0.349441  0.319144\n",
       "3   0.389859  0.341115  0.417873  0.379661\n",
       "4   0.452983  0.368612  0.458747  0.448181\n",
       "5   0.493298  0.386103  0.527302  0.491408\n",
       "6   0.551765  0.406488  0.572879  0.545919\n",
       "7   0.608015  0.430745  0.664429  0.622501\n",
       "8   0.639538  0.422042  0.683881  0.649408\n",
       "9   0.655390  0.415290  0.690180  0.644503\n",
       "10  0.654362  0.412345  0.692448  0.640942\n",
       "11  0.661888  0.409142  0.698347  0.639196"
      ]
     },
     "execution_count": 8,
     "metadata": {},
     "output_type": "execute_result"
    }
   ],
   "source": [
    "F1DataFrame['DT'] = DT_F1\n",
    "F1DataFrame['KNN'] = KNN_F1\n",
    "F1DataFrame['MLP'] = MLP_F1\n",
    "F1DataFrame['SVC'] = SVC_F1\n",
    "F1DataFrame"
   ]
  },
  {
   "cell_type": "code",
   "execution_count": 9,
   "metadata": {},
   "outputs": [
    {
     "data": {
      "text/plain": [
       "Text(0.5, 0, 'log2(CountVectorizer)')"
      ]
     },
     "execution_count": 9,
     "metadata": {},
     "output_type": "execute_result"
    },
    {
     "data": {
      "image/png": "[encoded data removed]",
      "text/plain": [
       "<Figure size 504x360 with 1 Axes>"
      ]
     },
     "metadata": {
      "needs_background": "light"
     },
     "output_type": "display_data"
    }
   ],
   "source": [
    "plt.figure(figsize = (7,5))\n",
    "plt.xscale('log',basex=2) \n",
    "plt.plot(ValuesTested, AccuracyDataFrame['DT'], label = 'Decision Tree', color =  'r')\n",
    "plt.plot(ValuesTested, AccuracyDataFrame['SVC'], label = 'Support Vector', color =  'b')\n",
    "plt.plot(ValuesTested, AccuracyDataFrame['KNN'], label = 'K-Nearest Neighbord', color =  'm')\n",
    "plt.plot(ValuesTested, AccuracyDataFrame['MLP'], label = 'Multi Layer Perceptron', color =  'k')\n",
    "plt.legend(loc = 'best')\n",
    "plt.title('Accuracy Amazon Pet Classification')\n",
    "plt.ylabel('Accuracy')\n",
    "plt.xlabel('log2(CountVectorizer)')"
   ]
  },
  {
   "cell_type": "code",
   "execution_count": 10,
   "metadata": {},
   "outputs": [
    {
     "data": {
      "text/plain": [
       "Text(0.5, 0, 'log2(CountVectorizer)')"
      ]
     },
     "execution_count": 10,
     "metadata": {},
     "output_type": "execute_result"
    },
    {
     "data": {
      "image/png": "[encoded data removed]",
      "text/plain": [
       "<Figure size 504x360 with 1 Axes>"
      ]
     },
     "metadata": {
      "needs_background": "light"
     },
     "output_type": "display_data"
    }
   ],
   "source": [
    "plt.figure(figsize = (7,5))\n",
    "plt.xscale('log',basex=2) \n",
    "plt.plot(ValuesTested, PrecisionDataFrame['DT'], label = 'Decision Tree', color =  'r')\n",
    "plt.plot(ValuesTested, PrecisionDataFrame['SVC'], label = 'Support Vector', color =  'b')\n",
    "plt.plot(ValuesTested, PrecisionDataFrame['KNN'], label = 'K-Nearest Neighbord', color =  'm')\n",
    "plt.plot(ValuesTested, PrecisionDataFrame['MLP'], label = 'Multi Layer Perceptron', color =  'k')\n",
    "plt.legend(loc = 'best')\n",
    "plt.title('Precision Amazon Pet Classification')\n",
    "plt.ylabel('Precision')\n",
    "plt.xlabel('log2(CountVectorizer)')"
   ]
  },
  {
   "cell_type": "code",
   "execution_count": 11,
   "metadata": {},
   "outputs": [
    {
     "data": {
      "text/plain": [
       "Text(0.5, 0, 'log2(CountVectorizer)')"
      ]
     },
     "execution_count": 11,
     "metadata": {},
     "output_type": "execute_result"
    },
    {
     "data": {
      "image/png": "[encoded data removed]",
      "text/plain": [
       "<Figure size 504x360 with 1 Axes>"
      ]
     },
     "metadata": {
      "needs_background": "light"
     },
     "output_type": "display_data"
    }
   ],
   "source": [
    "plt.figure(figsize = (7,5))\n",
    "plt.xscale('log',basex=2) \n",
    "plt.plot(ValuesTested, RecallDataFrame['DT'], label = 'Decision Tree', color =  'r')\n",
    "plt.plot(ValuesTested, RecallDataFrame['SVC'], label = 'Support Vector', color =  'b')\n",
    "plt.plot(ValuesTested, RecallDataFrame['KNN'], label = 'K-Nearest Neighbord', color =  'm')\n",
    "plt.plot(ValuesTested, RecallDataFrame['MLP'], label = 'Multi Layer Perceptron', color =  'k')\n",
    "plt.legend(loc = 'best')\n",
    "plt.title('Recall Amazon Pet Classification')\n",
    "plt.ylabel('Recall')\n",
    "plt.xlabel('log2(CountVectorizer)')"
   ]
  },
  {
   "cell_type": "code",
   "execution_count": 12,
   "metadata": {},
   "outputs": [
    {
     "data": {
      "text/plain": [
       "Text(0.5, 0, 'log2(CountVectorizer)')"
      ]
     },
     "execution_count": 12,
     "metadata": {},
     "output_type": "execute_result"
    },
    {
     "data": {
      "image/png": "[encoded data removed]",
      "text/plain": [
       "<Figure size 504x360 with 1 Axes>"
      ]
     },
     "metadata": {
      "needs_background": "light"
     },
     "output_type": "display_data"
    }
   ],
   "source": [
    "plt.figure(figsize = (7,5))\n",
    "plt.xscale('log',basex=2) \n",
    "plt.plot(ValuesTested, F1DataFrame['DT'], label = 'Decision Tree', color =  'r')\n",
    "plt.plot(ValuesTested, F1DataFrame['SVC'], label = 'Support Vector', color =  'b')\n",
    "plt.plot(ValuesTested, F1DataFrame['KNN'], label = 'K-Nearest Neighbord', color =  'm')\n",
    "plt.plot(ValuesTested, F1DataFrame['MLP'], label = 'Multi Layer Perceptron', color =  'k')\n",
    "plt.legend(loc = 'best')\n",
    "plt.title('F1 Amazon Pet Classification')\n",
    "plt.ylabel('F1')\n",
    "plt.xlabel('log2(CountVectorizer)')"
   ]
  },
  {
   "cell_type": "markdown",
   "metadata": {},
   "source": [
    "# Exemplos para o Resumo"
   ]
  },
  {
   "cell_type": "code",
   "execution_count": 37,
   "metadata": {},
   "outputs": [
    {
     "name": "stderr",
     "output_type": "stream",
     "text": [
      "[nltk_data] Downloading package stopwords to\n",
      "[nltk_data]     C:\\Users\\eduar\\AppData\\Roaming\\nltk_data...\n",
      "[nltk_data]   Package stopwords is already up-to-date!\n",
      "[nltk_data] Downloading package punkt to\n",
      "[nltk_data]     C:\\Users\\eduar\\AppData\\Roaming\\nltk_data...\n",
      "[nltk_data]   Package punkt is already up-to-date!\n"
     ]
    }
   ],
   "source": [
    "import pandas as pd\n",
    "from sklearn.feature_extraction.text import CountVectorizer\n",
    "from re import sub\n",
    "from nltk.corpus import stopwords\n",
    "import matplotlib.pyplot as plt\n",
    "from nltk import word_tokenize, RegexpTokenizer, TweetTokenizer\n",
    "\n",
    "from sklearn.metrics import accuracy_score, f1_score, precision_score, recall_score, confusion_matrix\n",
    "\n",
    "import os\n",
    "import argparse\n",
    "\n",
    "from sklearn.neural_network import MLPClassifier\n",
    "from sklearn.svm import SVC\n",
    "from sklearn.neighbors import KNeighborsClassifier\n",
    "from sklearn.naive_bayes import GaussianNB\n",
    "from sklearn import tree\n",
    "\n",
    "\n",
    "\n",
    "import nltk\n",
    "nltk.download('stopwords')\n",
    "nltk.download('punkt')\n",
    "\n",
    "def remove_URL(text):\n",
    "    url = RegexpTokenizer(r'https?://\\S+|www\\.\\S+', gaps = True)\n",
    "    return \" \".join(url.tokenize(text))\n",
    "\n",
    "def stopWords(tweet):  \n",
    "    stop_words, toker = stopwords.words('english'), TweetTokenizer()\n",
    "    words_tokens = toker.tokenize(tweet)\n",
    "    return \" \".join([word for word in  words_tokens if not word in stop_words])\n",
    "\n",
    "def remove_pontucations(text):\n",
    "    tokenizer_dots = RegexpTokenizer(r'\\w+')\n",
    "    return \" \".join(tokenizer_dots.tokenize(text))\n",
    "\n",
    "def remove_words_min(text, param):\n",
    "    tmp = text\n",
    "    for x in tmp.split():\n",
    "        if len(x) < param:\n",
    "            tmp = tmp.replace(x, '')\n",
    "    return \" \".join(tmp.split())\n",
    "\n",
    "def clean(data):\n",
    "    data.text = data.text.apply(lambda x: x.lower())\n",
    "    data.text = data.text.apply(lambda x: \" \".join(x.split()))\n",
    "    data.text = data.text.apply(lambda x: sub(r'\\d+', '', x))\n",
    "    data.text = data.text.apply(lambda x: remove_pontucations(x))\n",
    "    data.text = data.text.apply(lambda x: stopWords(x))\n",
    "    data.text = data.text.apply(lambda x: x.replace('_', ' '))\n",
    "    data.text = data.text.apply(lambda x: remove_URL(x))\n",
    "\n",
    "def cleanA(data):\n",
    "    data.text = data.text.apply(lambda x: x.lower())\n",
    "    \n",
    "def cleanB(data):\n",
    "    data.text = data.text.apply(lambda x: \" \".join(x.split()))\n",
    "    \n",
    "def cleanC(data):\n",
    "    data.text = data.text.apply(lambda x: sub(r'\\d+', '', x))\n",
    "    \n",
    "def cleanD(data):\n",
    "    data.text = data.text.apply(lambda x: remove_pontucations(x))\n",
    "    \n",
    "def cleanE(data):\n",
    "    data.text = data.text.apply(lambda x: stopWords(x))\n",
    "    \n",
    "def cleanF(data):\n",
    "    data.text = data.text.apply(lambda x: x.replace('_', ' '))\n",
    "\n",
    "def cleanG(data):\n",
    "    data.text = data.text.apply(lambda x: remove_URL(x))"
   ]
  },
  {
   "cell_type": "code",
   "execution_count": 6,
   "metadata": {},
   "outputs": [
    {
     "name": "stdout",
     "output_type": "stream",
     "text": [
      "String Original:  ESTOU TODO MAIUSCULO\n",
      "String Modificada:  estou todo maiusculo\n"
     ]
    }
   ],
   "source": [
    "Dados = ['ESTOU TODO MAIUSCULO']\n",
    "dfExample = pd.DataFrame(Dados, columns = ['text'])\n",
    "\n",
    "print(\"String Original: \", dfExample['text'][0])\n",
    "cleanA(dfExample)\n",
    "print(\"String Modificada: \", dfExample['text'][0])"
   ]
  },
  {
   "cell_type": "code",
   "execution_count": 14,
   "metadata": {},
   "outputs": [
    {
     "name": "stdout",
     "output_type": "stream",
     "text": [
      "String Original:  EU    TENHO     MUITO     ESPAÇO\n",
      "String Modificada:  EU TENHO MUITO ESPAÇO\n"
     ]
    }
   ],
   "source": [
    "Dados = ['EU    TENHO     MUITO     ESPAÇO']\n",
    "dfExample = pd.DataFrame(Dados, columns = ['text'])\n",
    "\n",
    "print(\"String Original: \", dfExample['text'][0])\n",
    "cleanB(dfExample)\n",
    "print(\"String Modificada: \", dfExample['text'][0])"
   ]
  },
  {
   "cell_type": "code",
   "execution_count": 19,
   "metadata": {},
   "outputs": [
    {
     "name": "stdout",
     "output_type": "stream",
     "text": [
      "String Original:  EssaStringTemNUMEROS289\n",
      "String Modificada:  EssaStringTemNUMEROS\n"
     ]
    }
   ],
   "source": [
    "Dados = ['EssaStringTemNUMEROS289']\n",
    "dfExample = pd.DataFrame(Dados, columns = ['text'])\n",
    "\n",
    "print(\"String Original: \", dfExample['text'][0])\n",
    "cleanC(dfExample)\n",
    "print(\"String Modificada: \", dfExample['text'][0])"
   ]
  },
  {
   "cell_type": "code",
   "execution_count": 20,
   "metadata": {},
   "outputs": [
    {
     "name": "stdout",
     "output_type": "stream",
     "text": [
      "String Original:  EU.TENHO.MUITA.PONTUAÇÃO\n",
      "String Modificada:  EU TENHO MUITA PONTUAÇÃO\n"
     ]
    }
   ],
   "source": [
    "Dados = ['EU.TENHO.MUITA.PONTUAÇÃO']\n",
    "dfExample = pd.DataFrame(Dados, columns = ['text'])\n",
    "\n",
    "print(\"String Original: \", dfExample['text'][0])\n",
    "cleanD(dfExample)\n",
    "print(\"String Modificada: \", dfExample['text'][0])"
   ]
  },
  {
   "cell_type": "code",
   "execution_count": 23,
   "metadata": {},
   "outputs": [
    {
     "name": "stdout",
     "output_type": "stream",
     "text": [
      "String Original:  all i want to do is remove this stopwords\n",
      "String Modificada:  want remove stopwords\n"
     ]
    }
   ],
   "source": [
    "Dados = ['all i want to do is remove this stopwords']\n",
    "dfExample = pd.DataFrame(Dados, columns = ['text'])\n",
    "\n",
    "print(\"String Original: \", dfExample['text'][0])\n",
    "cleanE(dfExample)\n",
    "print(\"String Modificada: \", dfExample['text'][0])"
   ]
  },
  {
   "cell_type": "code",
   "execution_count": 24,
   "metadata": {},
   "outputs": [
    {
     "name": "stdout",
     "output_type": "stream",
     "text": [
      "String Original:  ESTOU_REMOVENDO_ESSES_UNDERLINES\n",
      "String Modificada:  ESTOU REMOVENDO ESSES UNDERLINES\n"
     ]
    }
   ],
   "source": [
    "Dados = ['ESTOU_REMOVENDO_ESSES_UNDERLINES']\n",
    "dfExample = pd.DataFrame(Dados, columns = ['text'])\n",
    "\n",
    "print(\"String Original: \", dfExample['text'][0])\n",
    "cleanF(dfExample)\n",
    "print(\"String Modificada: \", dfExample['text'][0])"
   ]
  },
  {
   "cell_type": "code",
   "execution_count": 40,
   "metadata": {},
   "outputs": [
    {
     "name": "stdout",
     "output_type": "stream",
     "text": [
      "String Original:  Vou remover urls http://www.vouserremovido.com\n",
      "String Modificada:  Vou remover urls \n"
     ]
    }
   ],
   "source": [
    "Dados = ['Vou remover urls http://www.vouserremovido.com']\n",
    "dfExample = pd.DataFrame(Dados, columns = ['text'])\n",
    "\n",
    "print(\"String Original: \", dfExample['text'][0])\n",
    "cleanG(dfExample)\n",
    "print(\"String Modificada: \", dfExample['text'][0])"
   ]
  },
  {
   "cell_type": "code",
   "execution_count": null,
   "metadata": {},
   "outputs": [],
   "source": []
  }
 ],
 "metadata": {
  "kernelspec": {
   "display_name": "Python 3",
   "language": "python",
   "name": "python3"
  },
  "language_info": {
   "codemirror_mode": {
    "name": "ipython",
    "version": 3
   },
   "file_extension": ".py",
   "mimetype": "text/x-python",
   "name": "python",
   "nbconvert_exporter": "python",
   "pygments_lexer": "ipython3",
   "version": "3.7.7"
  }
 },
 "nbformat": 4,
 "nbformat_minor": 4
}
